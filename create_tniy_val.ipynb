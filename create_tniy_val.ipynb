{
 "cells": [
  {
   "cell_type": "code",
   "execution_count": 1,
   "outputs": [],
   "source": [
    "\"\"\"Simple Tiny ImageNet dataset utility class for pytorch.\"\"\"\n",
    "\n",
    "import os\n",
    "\n",
    "import shutil\n",
    "\n",
    "from torchvision.datasets import ImageFolder\n",
    "from torchvision.datasets.utils import verify_str_arg\n",
    "from torchvision.datasets.utils import download_and_extract_archive"
   ],
   "metadata": {
    "collapsed": false,
    "ExecuteTime": {
     "end_time": "2023-08-21T21:00:13.814510100Z",
     "start_time": "2023-08-21T21:00:11.933341800Z"
    }
   }
  },
  {
   "cell_type": "code",
   "execution_count": 16,
   "metadata": {
    "collapsed": true,
    "ExecuteTime": {
     "end_time": "2023-08-21T21:07:00.704261Z",
     "start_time": "2023-08-21T21:07:00.704261Z"
    }
   },
   "outputs": [],
   "source": [
    "\n",
    "\n",
    "\n",
    "def normalize_tin_val_folder_structure(path,\n",
    "                                       images_folder='images',\n",
    "                                       annotations_file='val_annotations.txt'):\n",
    "    # Check if files/annotations are still there to see\n",
    "    # if we already run reorganize the folder structure.\n",
    "    images_folder = os.path.join(path, images_folder)\n",
    "    annotations_file = os.path.join(path, annotations_file)\n",
    "\n",
    "    # Exists\n",
    "    if not os.path.exists(images_folder) \\\n",
    "            and not os.path.exists(annotations_file):\n",
    "        if not os.listdir(path):\n",
    "            raise RuntimeError('Validation folder is empty.')\n",
    "        return\n",
    "\n",
    "    # Parse the annotations\n",
    "    with open(annotations_file) as f:\n",
    "        for line in f:\n",
    "            values = line.split()\n",
    "            img = values[0]\n",
    "            label = values[1]\n",
    "            img_file = os.path.join(images_folder, values[0])\n",
    "            label_folder = os.path.join(path, label)\n",
    "            os.makedirs(label_folder, exist_ok=True)\n",
    "            try:\n",
    "                shutil.move(img_file, os.path.join(label_folder, img))\n",
    "            except FileNotFoundError:\n",
    "                continue\n",
    "\n",
    "    #os.sync()\n",
    "    assert not os.listdir(images_folder)\n",
    "    shutil.rmtree(images_folder)\n",
    "    os.remove(annotations_file)\n",
    "    #os.sync()"
   ]
  },
  {
   "cell_type": "code",
   "execution_count": 17,
   "outputs": [],
   "source": [
    "normalize_tin_val_folder_structure('C:/datasets/Tiny/val/', images_folder='images',annotations_file='val_annotations.txt')"
   ],
   "metadata": {
    "collapsed": false,
    "ExecuteTime": {
     "end_time": "2023-08-21T21:07:05.145594900Z",
     "start_time": "2023-08-21T21:07:03.042403100Z"
    }
   }
  },
  {
   "cell_type": "code",
   "execution_count": null,
   "outputs": [],
   "source": [],
   "metadata": {
    "collapsed": false
   }
  }
 ],
 "metadata": {
  "kernelspec": {
   "display_name": "Python 3",
   "language": "python",
   "name": "python3"
  },
  "language_info": {
   "codemirror_mode": {
    "name": "ipython",
    "version": 2
   },
   "file_extension": ".py",
   "mimetype": "text/x-python",
   "name": "python",
   "nbconvert_exporter": "python",
   "pygments_lexer": "ipython2",
   "version": "2.7.6"
  }
 },
 "nbformat": 4,
 "nbformat_minor": 0
}
