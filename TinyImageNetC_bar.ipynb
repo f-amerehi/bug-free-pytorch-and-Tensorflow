{
  "cells": [
    {
      "cell_type": "markdown",
      "metadata": {
        "id": "view-in-github",
        "colab_type": "text"
      },
      "source": [
        "<a href=\"https://colab.research.google.com/github/f-amerehi/bug-free-pytorch-and-Tensorflow/blob/main/TinyImageNetC_bar.ipynb\" target=\"_parent\"><img src=\"https://colab.research.google.com/assets/colab-badge.svg\" alt=\"Open In Colab\"/></a>"
      ]
    },
    {
      "cell_type": "markdown",
      "metadata": {
        "id": "B2v7tTBu-kh2"
      },
      "source": [
        "# dowloand Tiny ImageNet and prepare the validation data"
      ]
    },
    {
      "cell_type": "code",
      "execution_count": null,
      "metadata": {
        "id": "FvLkxUdG8y1U"
      },
      "outputs": [],
      "source": [
        "\"\"\"Simple Tiny ImageNet dataset utility class for pytorch.\"\"\"\n",
        "\n",
        "import os\n",
        "import shutil\n",
        "import multiprocessing\n",
        "from torch.utils.data import DataLoader"
      ]
    },
    {
      "cell_type": "code",
      "source": [
        "\n",
        "num_cpu_cores = multiprocessing.cpu_count()\n",
        "print(\"Number of CPU cores:\", num_cpu_cores)\n"
      ],
      "metadata": {
        "colab": {
          "base_uri": "https://localhost:8080/"
        },
        "id": "lJQIlAg6VZnb",
        "outputId": "a0c6367b-69c7-41ef-9485-d10535bfcb89"
      },
      "execution_count": null,
      "outputs": [
        {
          "output_type": "stream",
          "name": "stdout",
          "text": [
            "Number of CPU cores: 2\n"
          ]
        }
      ]
    },
    {
      "cell_type": "code",
      "execution_count": null,
      "metadata": {
        "colab": {
          "base_uri": "https://localhost:8080/"
        },
        "id": "6xKTmmEh-AJX",
        "outputId": "bda5fcee-2634-4cb9-b2ae-a05f032e66b5"
      },
      "outputs": [
        {
          "output_type": "stream",
          "name": "stdout",
          "text": [
            "--2023-08-22 09:56:13--  http://cs231n.stanford.edu/tiny-imagenet-200.zip\n",
            "Resolving cs231n.stanford.edu (cs231n.stanford.edu)... 171.64.68.10\n",
            "Connecting to cs231n.stanford.edu (cs231n.stanford.edu)|171.64.68.10|:80... connected.\n",
            "HTTP request sent, awaiting response... 200 OK\n",
            "Length: 248100043 (237M) [application/zip]\n",
            "Saving to: ‘tiny-imagenet-200.zip’\n",
            "\n",
            "tiny-imagenet-200.z 100%[===================>] 236.61M  37.5MB/s    in 9.2s    \n",
            "\n",
            "2023-08-22 09:56:23 (25.6 MB/s) - ‘tiny-imagenet-200.zip’ saved [248100043/248100043]\n",
            "\n"
          ]
        }
      ],
      "source": [
        "!wget http://cs231n.stanford.edu/tiny-imagenet-200.zip"
      ]
    },
    {
      "cell_type": "code",
      "execution_count": null,
      "metadata": {
        "id": "pRMz2WkW-DoQ"
      },
      "outputs": [],
      "source": [
        "!unzip -qq 'tiny-imagenet-200.zip'"
      ]
    },
    {
      "cell_type": "code",
      "execution_count": null,
      "metadata": {
        "id": "3giYAHGN8_DE"
      },
      "outputs": [],
      "source": [
        "def normalize_tin_val_folder_structure(path,\n",
        "                                       images_folder='images',\n",
        "                                       annotations_file='val_annotations.txt'):\n",
        "    # Check if files/annotations are still there to see\n",
        "    # if we already run reorganize the folder structure.\n",
        "    images_folder = os.path.join(path, images_folder)\n",
        "    annotations_file = os.path.join(path, annotations_file)\n",
        "\n",
        "    # Exists\n",
        "    if not os.path.exists(images_folder) \\\n",
        "            and not os.path.exists(annotations_file):\n",
        "        if not os.listdir(path):\n",
        "            raise RuntimeError('Validation folder is empty.')\n",
        "        return\n",
        "\n",
        "    # Parse the annotations\n",
        "    with open(annotations_file) as f:\n",
        "        for line in f:\n",
        "            values = line.split()\n",
        "            img = values[0]\n",
        "            label = values[1]\n",
        "            img_file = os.path.join(images_folder, values[0])\n",
        "            label_folder = os.path.join(path, label)\n",
        "            os.makedirs(label_folder, exist_ok=True)\n",
        "            try:\n",
        "                shutil.move(img_file, os.path.join(label_folder, img))\n",
        "            except FileNotFoundError:\n",
        "                continue\n",
        "\n",
        "    #os.sync()\n",
        "    assert not os.listdir(images_folder)\n",
        "    shutil.rmtree(images_folder)\n",
        "    os.remove(annotations_file)\n",
        "    #os.sync()"
      ]
    },
    {
      "cell_type": "code",
      "execution_count": null,
      "metadata": {
        "id": "hTW3sTFs-SEH"
      },
      "outputs": [],
      "source": [
        "normalize_tin_val_folder_structure('/content/tiny-imagenet-200/val', images_folder='images',annotations_file='val_annotations.txt')"
      ]
    },
    {
      "cell_type": "markdown",
      "metadata": {
        "id": "grAgLE5V-s5d"
      },
      "source": [
        "# Apply ImageNet- c̄  corupptions"
      ]
    },
    {
      "cell_type": "code",
      "execution_count": null,
      "metadata": {
        "colab": {
          "base_uri": "https://localhost:8080/"
        },
        "id": "A6hJ6JvG-6M0",
        "outputId": "3c4c7aee-939c-461a-8268-6b9ce6e93f95"
      },
      "outputs": [
        {
          "output_type": "stream",
          "name": "stdout",
          "text": [
            "Cloning into 'augmentation-corruption'...\n",
            "remote: Enumerating objects: 197, done.\u001b[K\n",
            "remote: Counting objects: 100% (197/197), done.\u001b[K\n",
            "remote: Compressing objects: 100% (142/142), done.\u001b[K\n",
            "remote: Total 197 (delta 66), reused 179 (delta 53), pack-reused 0\u001b[K\n",
            "Receiving objects: 100% (197/197), 1.47 MiB | 18.54 MiB/s, done.\n",
            "Resolving deltas: 100% (66/66), done.\n"
          ]
        }
      ],
      "source": [
        "! git clone https://github.com/facebookresearch/augmentation-corruption.git"
      ]
    },
    {
      "cell_type": "code",
      "execution_count": null,
      "metadata": {
        "id": "Np0aZl16AALw"
      },
      "outputs": [],
      "source": [
        "!mkdir tiny_imagenet_c_bar"
      ]
    },
    {
      "cell_type": "code",
      "execution_count": null,
      "metadata": {
        "colab": {
          "base_uri": "https://localhost:8080/"
        },
        "id": "FZolI4of_gpB",
        "outputId": "c249fb54-a3c6-46c2-b3ef-5c3a7dba9aee"
      },
      "outputs": [
        {
          "metadata": {
            "tags": null
          },
          "name": "stdout",
          "output_type": "stream",
          "text": [
            "Starting caustic_refraction-2.35...\n"
          ]
        }
      ],
      "source": [
        "\n",
        "!python /content/augmentation-corruption/imagenet_c_bar/make_imagenet_c_bar.py --imagenet_dir /content/tiny-imagenet-200 --out_dir /content/tiny_imagenet_c_bar"
      ]
    }
  ],
  "metadata": {
    "colab": {
      "provenance": [],
      "authorship_tag": "ABX9TyMq1wAx/8ghUic6DaqiLa1c",
      "include_colab_link": true
    },
    "kernelspec": {
      "display_name": "Python 3",
      "name": "python3"
    },
    "language_info": {
      "name": "python"
    }
  },
  "nbformat": 4,
  "nbformat_minor": 0
}